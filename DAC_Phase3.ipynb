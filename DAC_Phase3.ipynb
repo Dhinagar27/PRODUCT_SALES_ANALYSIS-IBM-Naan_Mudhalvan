{
  "nbformat": 4,
  "nbformat_minor": 0,
  "metadata": {
    "colab": {
      "provenance": []
    },
    "kernelspec": {
      "name": "python3",
      "display_name": "Python 3"
    },
    "language_info": {
      "name": "python"
    }
  },
  "cells": [
    {
      "cell_type": "markdown",
      "source": [
        "Product Sales Analysis\n",
        "Phase 3: Development Part 1\n",
        "\n",
        "Step 1: Import Necessary Libraries"
      ],
      "metadata": {
        "id": "Krw0-oAF6quw"
      }
    },
    {
      "cell_type": "code",
      "source": [
        "##You will need Python libraries for data manipulation and analysis. You can use Pandas for data processing.\n",
        "import pandas as pd\n"
      ],
      "metadata": {
        "id": "ka7X9RH86puI"
      },
      "execution_count": 2,
      "outputs": []
    },
    {
      "cell_type": "markdown",
      "source": [
        "Step 2: Load the Dataset\n",
        "\n",
        "You can use Pandas to load the dataset from the provided link."
      ],
      "metadata": {
        "id": "owV4u3PaIfoC"
      }
    },
    {
      "cell_type": "code",
      "source": [
        "# Provide the dataset URL\n",
        "dataset_url = \"/content/datasets/statsfinal.csv\"\n",
        "\n",
        "# Load the dataset into a Pandas DataFrame\n",
        "sales_data = pd.read_csv(dataset_url)\n"
      ],
      "metadata": {
        "id": "bMu3qo1XIxI9"
      },
      "execution_count": 9,
      "outputs": []
    },
    {
      "cell_type": "markdown",
      "source": [
        "Step 3: Explore the Dataset\n",
        "\n",
        "Before cleaning the data, it's essential to understand its structure and identify any potential issues. Use the following code to get some basic insights:"
      ],
      "metadata": {
        "id": "azmEPIoGIzGN"
      }
    },
    {
      "cell_type": "code",
      "source": [
        "# Display the first few rows of the dataset\n",
        "print(sales_data.head())\n",
        "\n",
        "# Check the data types and null values\n",
        "print(sales_data.info())\n",
        "\n",
        "# Summary statistics\n",
        "print(sales_data.describe())\n"
      ],
      "metadata": {
        "colab": {
          "base_uri": "https://localhost:8080/"
        },
        "id": "oicc_Wc4I4A3",
        "outputId": "1b01d871-31f7-45c0-ede2-ac6554ce6391"
      },
      "execution_count": 8,
      "outputs": [
        {
          "output_type": "stream",
          "name": "stdout",
          "text": [
            "   Unnamed: 0        Date  Q-P1  Q-P2  Q-P3  Q-P4      S-P1      S-P2  \\\n",
            "0           0  13-06-2010  5422  3725   576   907  17187.74  23616.50   \n",
            "1           1  14-06-2010  7047   779  3578  1574  22338.99   4938.86   \n",
            "2           2  15-06-2010  1572  2082   595  1145   4983.24  13199.88   \n",
            "3           3  16-06-2010  5657  2399  3140  1672  17932.69  15209.66   \n",
            "4           4  17-06-2010  3668  3207  2184   708  11627.56  20332.38   \n",
            "\n",
            "       S-P3      S-P4  \n",
            "0   3121.92   6466.91  \n",
            "1  19392.76  11222.62  \n",
            "2   3224.90   8163.85  \n",
            "3  17018.80  11921.36  \n",
            "4  11837.28   5048.04  \n",
            "<class 'pandas.core.frame.DataFrame'>\n",
            "RangeIndex: 4600 entries, 0 to 4599\n",
            "Data columns (total 10 columns):\n",
            " #   Column      Non-Null Count  Dtype  \n",
            "---  ------      --------------  -----  \n",
            " 0   Unnamed: 0  4600 non-null   int64  \n",
            " 1   Date        4600 non-null   object \n",
            " 2   Q-P1        4600 non-null   int64  \n",
            " 3   Q-P2        4600 non-null   int64  \n",
            " 4   Q-P3        4600 non-null   int64  \n",
            " 5   Q-P4        4600 non-null   int64  \n",
            " 6   S-P1        4600 non-null   float64\n",
            " 7   S-P2        4600 non-null   float64\n",
            " 8   S-P3        4600 non-null   float64\n",
            " 9   S-P4        4600 non-null   float64\n",
            "dtypes: float64(4), int64(5), object(1)\n",
            "memory usage: 359.5+ KB\n",
            "None\n",
            "        Unnamed: 0         Q-P1         Q-P2         Q-P3         Q-P4  \\\n",
            "count  4600.000000  4600.000000  4600.000000  4600.000000  4600.000000   \n",
            "mean   2299.500000  4121.849130  2130.281522  3145.740000  1123.500000   \n",
            "std    1328.049949  2244.271323  1089.783705  1671.832231   497.385676   \n",
            "min       0.000000   254.000000   251.000000   250.000000   250.000000   \n",
            "25%    1149.750000  2150.500000  1167.750000  1695.750000   696.000000   \n",
            "50%    2299.500000  4137.000000  2134.000000  3202.500000  1136.500000   \n",
            "75%    3449.250000  6072.000000  3070.250000  4569.000000  1544.000000   \n",
            "max    4599.000000  7998.000000  3998.000000  6000.000000  2000.000000   \n",
            "\n",
            "               S-P1          S-P2          S-P3          S-P4  \n",
            "count   4600.000000   4600.000000   4600.000000   4600.000000  \n",
            "mean   13066.261743  13505.984848  17049.910800   8010.555000  \n",
            "std     7114.340094   6909.228687   9061.330694   3546.359869  \n",
            "min      805.180000   1591.340000   1355.000000   1782.500000  \n",
            "25%     6817.085000   7403.535000   9190.965000   4962.480000  \n",
            "50%    13114.290000  13529.560000  17357.550000   8103.245000  \n",
            "75%    19248.240000  19465.385000  24763.980000  11008.720000  \n",
            "max    25353.660000  25347.320000  32520.000000  14260.000000  \n"
          ]
        }
      ]
    },
    {
      "cell_type": "markdown",
      "source": [
        "Step 4: Data Cleaning\n",
        "\n",
        "Data cleaning involves handling missing values, dealing with duplicates, and addressing any other data quality issues."
      ],
      "metadata": {
        "id": "Ugm2qCXoI7je"
      }
    },
    {
      "cell_type": "code",
      "source": [
        "# Handle missing values (e.g., replace NaN with zeros for sales data)\n",
        "sales_data.fillna(0, inplace=True)\n",
        "\n",
        "# Check for duplicates and remove them\n",
        "sales_data.drop_duplicates(inplace=True)"
      ],
      "metadata": {
        "id": "nGnKu4BHI-Dl"
      },
      "execution_count": 10,
      "outputs": []
    },
    {
      "cell_type": "markdown",
      "source": [
        "Step 5: Export Cleaned Data\n",
        "\n",
        "It's a good practice to save the cleaned data to a new file for future use.\n",
        "\n"
      ],
      "metadata": {
        "id": "h704Nd-SJDHJ"
      }
    },
    {
      "cell_type": "code",
      "source": [
        "# Save the cleaned data to a CSV file\n",
        "sales_data.to_csv('cleaned_sales_data.csv', index=False)"
      ],
      "metadata": {
        "id": "R67zivltJEZB"
      },
      "execution_count": 12,
      "outputs": []
    },
    {
      "cell_type": "markdown",
      "source": [
        "[IBM Visualization:](https://us1.ca.analytics.ibm.com/bi/?perspective=dashboard&pathRef=.my_folders%2FDAC_Phase3%2FDAC_Phase3&action=view&mode=dashboard&subView=model0000018b41a5acc0_00000002)"
      ],
      "metadata": {
        "id": "C04c8c4Xezfr"
      }
    },
    {
      "cell_type": "code",
      "source": [],
      "metadata": {
        "id": "lw02jfDvrbva"
      },
      "execution_count": null,
      "outputs": []
    }
  ]
}