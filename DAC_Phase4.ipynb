{
  "nbformat": 4,
  "nbformat_minor": 0,
  "metadata": {
    "colab": {
      "provenance": []
    },
    "kernelspec": {
      "name": "python3",
      "display_name": "Python 3"
    },
    "language_info": {
      "name": "python"
    }
  },
  "cells": [
    {
      "cell_type": "markdown",
      "source": [
        "##**Product Sales Analysis**\n",
        "\n",
        "\n"
      ],
      "metadata": {
        "id": "Krw0-oAF6quw"
      }
    },
    {
      "cell_type": "markdown",
      "source": [
        "##**Phase 3: Development Part 1**"
      ],
      "metadata": {
        "id": "nxEeRvlBNcqe"
      }
    },
    {
      "cell_type": "markdown",
      "source": [
        "##Step 1: Import Necessary Libraries"
      ],
      "metadata": {
        "id": "Z_FMJYSwJEBk"
      }
    },
    {
      "cell_type": "code",
      "source": [
        "##You will need Python libraries for data manipulation and analysis. You can use Pandas for data processing.\n",
        "import pandas as pd\n"
      ],
      "metadata": {
        "id": "ka7X9RH86puI"
      },
      "execution_count": 1,
      "outputs": []
    },
    {
      "cell_type": "markdown",
      "source": [
        "##**Step 2: Load the Dataset**\n",
        "\n",
        "You can use Pandas to load the dataset from the provided link."
      ],
      "metadata": {
        "id": "owV4u3PaIfoC"
      }
    },
    {
      "cell_type": "code",
      "source": [
        "# Provide the dataset URL\n",
        "dataset_url = \"/content/sample_data/statsfinal.csv\"\n",
        "\n",
        "# Load the dataset into a Pandas DataFrame\n",
        "sales_data = pd.read_csv(dataset_url)\n"
      ],
      "metadata": {
        "id": "bMu3qo1XIxI9"
      },
      "execution_count": 2,
      "outputs": []
    },
    {
      "cell_type": "markdown",
      "source": [
        "##Step 3: Explore the Dataset\n",
        "\n",
        "Before cleaning the data, it's essential to understand its structure and identify any potential issues. Use the following code to get some basic insights:"
      ],
      "metadata": {
        "id": "azmEPIoGIzGN"
      }
    },
    {
      "cell_type": "code",
      "source": [
        "# Display the first few rows of the dataset\n",
        "print(sales_data.head())\n",
        "\n",
        "# Check the data types and null values\n",
        "print(sales_data.info())\n",
        "\n",
        "# Summary statistics\n",
        "print(sales_data.describe())\n"
      ],
      "metadata": {
        "colab": {
          "base_uri": "https://localhost:8080/"
        },
        "id": "oicc_Wc4I4A3",
        "outputId": "689d962d-faa5-49ed-9153-997563142d5d"
      },
      "execution_count": 3,
      "outputs": [
        {
          "output_type": "stream",
          "name": "stdout",
          "text": [
            "   Unnamed: 0        Date  Q-P1  Q-P2  Q-P3  Q-P4      S-P1      S-P2  \\\n",
            "0           0  13-06-2010  5422  3725   576   907  17187.74  23616.50   \n",
            "1           1  14-06-2010  7047   779  3578  1574  22338.99   4938.86   \n",
            "2           2  15-06-2010  1572  2082   595  1145   4983.24  13199.88   \n",
            "3           3  16-06-2010  5657  2399  3140  1672  17932.69  15209.66   \n",
            "4           4  17-06-2010  3668  3207  2184   708  11627.56  20332.38   \n",
            "\n",
            "       S-P3      S-P4  \n",
            "0   3121.92   6466.91  \n",
            "1  19392.76  11222.62  \n",
            "2   3224.90   8163.85  \n",
            "3  17018.80  11921.36  \n",
            "4  11837.28   5048.04  \n",
            "<class 'pandas.core.frame.DataFrame'>\n",
            "RangeIndex: 4600 entries, 0 to 4599\n",
            "Data columns (total 10 columns):\n",
            " #   Column      Non-Null Count  Dtype  \n",
            "---  ------      --------------  -----  \n",
            " 0   Unnamed: 0  4600 non-null   int64  \n",
            " 1   Date        4600 non-null   object \n",
            " 2   Q-P1        4600 non-null   int64  \n",
            " 3   Q-P2        4600 non-null   int64  \n",
            " 4   Q-P3        4600 non-null   int64  \n",
            " 5   Q-P4        4600 non-null   int64  \n",
            " 6   S-P1        4600 non-null   float64\n",
            " 7   S-P2        4600 non-null   float64\n",
            " 8   S-P3        4600 non-null   float64\n",
            " 9   S-P4        4600 non-null   float64\n",
            "dtypes: float64(4), int64(5), object(1)\n",
            "memory usage: 359.5+ KB\n",
            "None\n",
            "        Unnamed: 0         Q-P1         Q-P2         Q-P3         Q-P4  \\\n",
            "count  4600.000000  4600.000000  4600.000000  4600.000000  4600.000000   \n",
            "mean   2299.500000  4121.849130  2130.281522  3145.740000  1123.500000   \n",
            "std    1328.049949  2244.271323  1089.783705  1671.832231   497.385676   \n",
            "min       0.000000   254.000000   251.000000   250.000000   250.000000   \n",
            "25%    1149.750000  2150.500000  1167.750000  1695.750000   696.000000   \n",
            "50%    2299.500000  4137.000000  2134.000000  3202.500000  1136.500000   \n",
            "75%    3449.250000  6072.000000  3070.250000  4569.000000  1544.000000   \n",
            "max    4599.000000  7998.000000  3998.000000  6000.000000  2000.000000   \n",
            "\n",
            "               S-P1          S-P2          S-P3          S-P4  \n",
            "count   4600.000000   4600.000000   4600.000000   4600.000000  \n",
            "mean   13066.261743  13505.984848  17049.910800   8010.555000  \n",
            "std     7114.340094   6909.228687   9061.330694   3546.359869  \n",
            "min      805.180000   1591.340000   1355.000000   1782.500000  \n",
            "25%     6817.085000   7403.535000   9190.965000   4962.480000  \n",
            "50%    13114.290000  13529.560000  17357.550000   8103.245000  \n",
            "75%    19248.240000  19465.385000  24763.980000  11008.720000  \n",
            "max    25353.660000  25347.320000  32520.000000  14260.000000  \n"
          ]
        }
      ]
    },
    {
      "cell_type": "markdown",
      "source": [
        "##Step 4: Data Cleaning\n",
        "\n",
        "Data cleaning involves handling missing values, dealing with duplicates, and addressing any other data quality issues."
      ],
      "metadata": {
        "id": "Ugm2qCXoI7je"
      }
    },
    {
      "cell_type": "code",
      "source": [
        "# Handle missing values (e.g., replace NaN with zeros for sales data)\n",
        "sales_data.fillna(0, inplace=True)\n",
        "\n",
        "# Check for duplicates and remove them\n",
        "sales_data.drop_duplicates(inplace=True)"
      ],
      "metadata": {
        "id": "nGnKu4BHI-Dl"
      },
      "execution_count": 4,
      "outputs": []
    },
    {
      "cell_type": "markdown",
      "source": [
        "##Step 5: Export Cleaned Data\n",
        "\n",
        "It's a good practice to save the cleaned data to a new file for future use.\n",
        "\n"
      ],
      "metadata": {
        "id": "h704Nd-SJDHJ"
      }
    },
    {
      "cell_type": "code",
      "source": [
        "# Save the cleaned data to a CSV file\n",
        "sales_data.to_csv('cleaned_sales_data.csv', index=False)"
      ],
      "metadata": {
        "id": "R67zivltJEZB"
      },
      "execution_count": 5,
      "outputs": []
    },
    {
      "cell_type": "markdown",
      "source": [
        "##**Step 6: IBM Visualization**"
      ],
      "metadata": {
        "id": "hYDOIUcyJwkM"
      }
    },
    {
      "cell_type": "markdown",
      "source": [
        "[IBM Visualization:](https://us1.ca.analytics.ibm.com/bi/?perspective=dashboard&pathRef=.my_folders%2FDAC_Phase3%2FDAC_Phase3&action=view&mode=dashboard&subView=model0000018b41a5acc0_00000002)"
      ],
      "metadata": {
        "id": "C04c8c4Xezfr"
      }
    },
    {
      "cell_type": "markdown",
      "source": [
        "---"
      ],
      "metadata": {
        "id": "S42ZJjm5InvD"
      }
    },
    {
      "cell_type": "markdown",
      "source": [
        "##**Phase 4:Development Part 2**\n",
        "\n",
        "\n",
        "\n"
      ],
      "metadata": {
        "id": "BS3qC3PoIvSL"
      }
    },
    {
      "cell_type": "markdown",
      "source": [
        "##**Step 1: Data Analysis in Python**\n",
        "\n"
      ],
      "metadata": {
        "id": "WmE3_tCUOHRA"
      }
    },
    {
      "cell_type": "markdown",
      "source": [
        "**Data Exploration:**\n",
        "\n",
        "Load your preprocessed and cleaned dataset into IBM Cognos.\n",
        "Use the \"Data Modules\" feature to create a logical view of the data that combines multiple sources and transforms the data as needed.\n",
        "Explore the data to understand its characteristics, distribution, and potential patterns."
      ],
      "metadata": {
        "id": "grPcamyyJ3B7"
      }
    },
    {
      "cell_type": "markdown",
      "source": [
        "**Descriptive Analytics:**\n",
        "\n",
        "Create various descriptive statistics to summarize your data, such as mean, median, mode, standard deviation, etc.\n",
        "Generate charts and graphs to visualize the distribution of key variables like sales, customer demographics, or product performance."
      ],
      "metadata": {
        "id": "Ay5pgV-vKYEU"
      }
    },
    {
      "cell_type": "markdown",
      "source": [
        "**Sales Trend Analysis:**\n",
        "\n",
        "Use time series charts to analyze sales trends over time. This can help identify seasonality, peaks, and troughs in your sales data.\n"
      ],
      "metadata": {
        "id": "RcKzEPy_Kk7z"
      }
    },
    {
      "cell_type": "markdown",
      "source": [
        "**Import the necessary Libraries for the Model**"
      ],
      "metadata": {
        "id": "Xzkm-WwfOkCz"
      }
    },
    {
      "cell_type": "code",
      "source": [
        "# Import necessary libraries\n",
        "\n",
        "import pandas as pd\n",
        "import matplotlib.pyplot as plt\n",
        "import seaborn as sns"
      ],
      "metadata": {
        "id": "m4yBWukHLIV7"
      },
      "execution_count": 6,
      "outputs": []
    },
    {
      "cell_type": "markdown",
      "source": [
        " **Load the cleaned dataset for the model**"
      ],
      "metadata": {
        "id": "ocuZJKELLT27"
      }
    },
    {
      "cell_type": "code",
      "source": [
        "# Load the cleaned dataset\n",
        "\n",
        "sales_data = pd.read_csv('/content/cleaned_sales_data.csv')"
      ],
      "metadata": {
        "id": "l-sJCCpHLbtm"
      },
      "execution_count": 7,
      "outputs": []
    },
    {
      "cell_type": "code",
      "source": [],
      "metadata": {
        "id": "QGWMb8QQq_AZ"
      },
      "execution_count": 7,
      "outputs": []
    },
    {
      "cell_type": "markdown",
      "source": [
        "**Perform exploratory data analysis (EDA)**\n",
        "\n",
        "Exploratory Data Analysis (EDA) is an essential step in understanding your data, identifying patterns, and uncovering insights. To perform EDA on your product sales dataset, you can use Python and libraries like Pandas, Matplotlib, and Seaborn. Here's a step-by-step guide with code snippets for EDA:"
      ],
      "metadata": {
        "id": "tFuJ046tLoOY"
      }
    },
    {
      "cell_type": "code",
      "source": [
        "def parse_date(date_str):\n",
        "    try:\n",
        "        return pd.to_datetime(date_str, format='%d-%m-%Y')\n",
        "    except ValueError:\n",
        "        return pd.NaT  # Not a Timestamp for invalid dates\n",
        "\n",
        "# Apply the custom date parsing function to the 'Date' column\n",
        "sales_data['Date'] = sales_data['Date'].apply(parse_date)\n",
        "\n",
        "# Remove rows with invalid dates (NaT values)\n",
        "sales_data = sales_data.dropna(subset=['Date'])\n",
        "\n",
        "# Set the 'Date' column as the index\n",
        "sales_data.set_index('Date', inplace=True)\n",
        "\n",
        "# Sum sales values across the relevant columns for each row\n",
        "sales_data['Total_Sales'] = sales_data[['Q-P1', 'Q-P2', 'Q-P3', 'Q-P4', 'S-P1', 'S-P2', 'S-P3', 'S-P4']].sum(axis=1)\n",
        "\n",
        "# Calculate monthly sales totals\n",
        "monthly_sales = sales_data['Total_Sales'].resample('M').sum()"
      ],
      "metadata": {
        "colab": {
          "base_uri": "https://localhost:8080/"
        },
        "id": "B5pbjS9hMc7U",
        "outputId": "3a0c66f5-316c-42b5-fd0f-14cdf8d48c12"
      },
      "execution_count": 8,
      "outputs": [
        {
          "output_type": "stream",
          "name": "stderr",
          "text": [
            "<ipython-input-8-a3171c3d2ec9>:17: SettingWithCopyWarning: \n",
            "A value is trying to be set on a copy of a slice from a DataFrame.\n",
            "Try using .loc[row_indexer,col_indexer] = value instead\n",
            "\n",
            "See the caveats in the documentation: https://pandas.pydata.org/pandas-docs/stable/user_guide/indexing.html#returning-a-view-versus-a-copy\n",
            "  sales_data['Total_Sales'] = sales_data[['Q-P1', 'Q-P2', 'Q-P3', 'Q-P4', 'S-P1', 'S-P2', 'S-P3', 'S-P4']].sum(axis=1)\n"
          ]
        }
      ]
    },
    {
      "cell_type": "markdown",
      "source": [
        "**Visualize monthly sales trends**\n",
        "\n",
        "To visualize monthly sales trends from your dataset, you can use Python with libraries like Pandas, Matplotlib, and Seaborn. Here's how you can create a line plot to visualize the monthly sales trends:"
      ],
      "metadata": {
        "id": "EpaIegvJMuYA"
      }
    },
    {
      "cell_type": "code",
      "source": [
        "# Visualize monthly sales trends\n",
        "\n",
        "plt.figure(figsize=(10, 6))\n",
        "plt.title('Monthly Sales Trends')\n",
        "sns.lineplot(data=monthly_sales)\n",
        "plt.xlabel('Date')\n",
        "plt.ylabel('Sales')\n",
        "plt.show()"
      ],
      "metadata": {
        "colab": {
          "base_uri": "https://localhost:8080/",
          "height": 564
        },
        "id": "_JFH_nhRM71c",
        "outputId": "fc7e1ab1-f905-4fcd-c675-760b8174405e"
      },
      "execution_count": 9,
      "outputs": [
        {
          "output_type": "display_data",
          "data": {
            "text/plain": [
              "<Figure size 1000x600 with 1 Axes>"
            ],
            "image/png": "[encoded data removed]"
          },
          "metadata": {}
        }
      ]
    },
    {
      "cell_type": "markdown",
      "source": [
        "##**Step 2: Model Building and Evaluation**"
      ],
      "metadata": {
        "id": "FfwWAeSNNJ7s"
      }
    },
    {
      "cell_type": "markdown",
      "source": [
        "**Machine Learning Model Building:**\n",
        "\n",
        "Implement machine learning models, such as regression, clustering, or classification, to predict sales trends or customer behaviors.\n",
        "Use the \"Modeler\" in IBM Cognos to build and train these models."
      ],
      "metadata": {
        "id": "loR44sSzOxUD"
      }
    },
    {
      "cell_type": "markdown",
      "source": [
        "**Evaluation of Models:**\n",
        "\n",
        "Create interactive dashboards and reports in IBM Cognos to present your analyses and insights.\n",
        "Include various visualizations like charts, tables, and maps to convey your findings effectively."
      ],
      "metadata": {
        "id": "PZ1VOMvsO3Yj"
      }
    },
    {
      "cell_type": "markdown",
      "source": [
        "**Import machine learning libraries**"
      ],
      "metadata": {
        "id": "xO9ww0iGO85s"
      }
    },
    {
      "cell_type": "code",
      "source": [
        "# Import machine learning libraries\n",
        "\n",
        "from sklearn.model_selection import train_test_split\n",
        "from sklearn.linear_model import LinearRegression\n",
        "from sklearn.metrics import mean_squared_error, r2_score"
      ],
      "metadata": {
        "id": "x-nAyu8MPDmg"
      },
      "execution_count": 14,
      "outputs": []
    },
    {
      "cell_type": "markdown",
      "source": [
        "**Prepare data for modeling**\n",
        "\n",
        "To prepare your data for modeling, you need to set up your features (independent variables) and the target variable (the variable you want to predict). Additionally, you may need to split your data into training and testing sets. Here's how you can prepare your data for modeling using Python:"
      ],
      "metadata": {
        "id": "ukWokkhTPLpr"
      }
    },
    {
      "cell_type": "code",
      "source": [
        "# Replace 'Sales' with the correct column name for your target variable\n",
        "y = sales_data[['Q-P1', 'Q-P2', 'Q-P3', 'Q-P4', 'S-P1', 'S-P2', 'S-P3', 'S-P4']]  # Replace 'Actual_Target_Column_Name' with the correct column name\n",
        "X = sales_data[['Q-P1', 'Q-P2', 'Q-P3', 'Q-P4', 'S-P1', 'S-P2', 'S-P3', 'S-P4']]"
      ],
      "metadata": {
        "id": "4TT5KmDPPTEu"
      },
      "execution_count": 30,
      "outputs": []
    },
    {
      "cell_type": "markdown",
      "source": [
        "**Split data into training and testing sets**"
      ],
      "metadata": {
        "id": "bgcUfcO0PXnD"
      }
    },
    {
      "cell_type": "code",
      "source": [
        "# Split data into training and testing sets\n",
        "\n",
        "X_train, X_test, y_train, y_test = train_test_split(X, y, test_size=0.2, random_state=42)"
      ],
      "metadata": {
        "id": "9rRIyU_PPcGD"
      },
      "execution_count": 22,
      "outputs": []
    },
    {
      "cell_type": "markdown",
      "source": [
        "**Build a linear regression model**\n",
        "\n",
        "To build a linear regression model for your data using Python, you can use the scikit-learn library, which is a powerful machine learning library. Here's a step-by-step guide to building a linear regression model:"
      ],
      "metadata": {
        "id": "qSaPF-QKPuyt"
      }
    },
    {
      "cell_type": "code",
      "source": [
        "# Build a linear regression model\n",
        "\n",
        "model = LinearRegression()\n",
        "model.fit(X_train, y_train)"
      ],
      "metadata": {
        "colab": {
          "base_uri": "https://localhost:8080/",
          "height": 75
        },
        "id": "SetiqGBoP5Bq",
        "outputId": "375acb31-1621-4fc4-b1af-67d95817a2fb"
      },
      "execution_count": 23,
      "outputs": [
        {
          "output_type": "execute_result",
          "data": {
            "text/plain": [
              "LinearRegression()"
            ],
            "text/html": [
              "<style>#sk-container-id-1 {color: black;background-color: white;}#sk-container-id-1 pre{padding: 0;}#sk-container-id-1 div.sk-toggleable {background-color: white;}#sk-container-id-1 label.sk-toggleable__label {cursor: pointer;display: block;width: 100%;margin-bottom: 0;padding: 0.3em;box-sizing: border-box;text-align: center;}#sk-container-id-1 label.sk-toggleable__label-arrow:before {content: \"▸\";float: left;margin-right: 0.25em;color: #696969;}#sk-container-id-1 label.sk-toggleable__label-arrow:hover:before {color: black;}#sk-container-id-1 div.sk-estimator:hover label.sk-toggleable__label-arrow:before {color: black;}#sk-container-id-1 div.sk-toggleable__content {max-height: 0;max-width: 0;overflow: hidden;text-align: left;background-color: #f0f8ff;}#sk-container-id-1 div.sk-toggleable__content pre {margin: 0.2em;color: black;border-radius: 0.25em;background-color: #f0f8ff;}#sk-container-id-1 input.sk-toggleable__control:checked~div.sk-toggleable__content {max-height: 200px;max-width: 100%;overflow: auto;}#sk-container-id-1 input.sk-toggleable__control:checked~label.sk-toggleable__label-arrow:before {content: \"▾\";}#sk-container-id-1 div.sk-estimator input.sk-toggleable__control:checked~label.sk-toggleable__label {background-color: #d4ebff;}#sk-container-id-1 div.sk-label input.sk-toggleable__control:checked~label.sk-toggleable__label {background-color: #d4ebff;}#sk-container-id-1 input.sk-hidden--visually {border: 0;clip: rect(1px 1px 1px 1px);clip: rect(1px, 1px, 1px, 1px);height: 1px;margin: -1px;overflow: hidden;padding: 0;position: absolute;width: 1px;}#sk-container-id-1 div.sk-estimator {font-family: monospace;background-color: #f0f8ff;border: 1px dotted black;border-radius: 0.25em;box-sizing: border-box;margin-bottom: 0.5em;}#sk-container-id-1 div.sk-estimator:hover {background-color: #d4ebff;}#sk-container-id-1 div.sk-parallel-item::after {content: \"\";width: 100%;border-bottom: 1px solid gray;flex-grow: 1;}#sk-container-id-1 div.sk-label:hover label.sk-toggleable__label {background-color: #d4ebff;}#sk-container-id-1 div.sk-serial::before {content: \"\";position: absolute;border-left: 1px solid gray;box-sizing: border-box;top: 0;bottom: 0;left: 50%;z-index: 0;}#sk-container-id-1 div.sk-serial {display: flex;flex-direction: column;align-items: center;background-color: white;padding-right: 0.2em;padding-left: 0.2em;position: relative;}#sk-container-id-1 div.sk-item {position: relative;z-index: 1;}#sk-container-id-1 div.sk-parallel {display: flex;align-items: stretch;justify-content: center;background-color: white;position: relative;}#sk-container-id-1 div.sk-item::before, #sk-container-id-1 div.sk-parallel-item::before {content: \"\";position: absolute;border-left: 1px solid gray;box-sizing: border-box;top: 0;bottom: 0;left: 50%;z-index: -1;}#sk-container-id-1 div.sk-parallel-item {display: flex;flex-direction: column;z-index: 1;position: relative;background-color: white;}#sk-container-id-1 div.sk-parallel-item:first-child::after {align-self: flex-end;width: 50%;}#sk-container-id-1 div.sk-parallel-item:last-child::after {align-self: flex-start;width: 50%;}#sk-container-id-1 div.sk-parallel-item:only-child::after {width: 0;}#sk-container-id-1 div.sk-dashed-wrapped {border: 1px dashed gray;margin: 0 0.4em 0.5em 0.4em;box-sizing: border-box;padding-bottom: 0.4em;background-color: white;}#sk-container-id-1 div.sk-label label {font-family: monospace;font-weight: bold;display: inline-block;line-height: 1.2em;}#sk-container-id-1 div.sk-label-container {text-align: center;}#sk-container-id-1 div.sk-container {/* jupyter's `normalize.less` sets `[hidden] { display: none; }` but bootstrap.min.css set `[hidden] { display: none !important; }` so we also need the `!important` here to be able to override the default hidden behavior on the sphinx rendered scikit-learn.org. See: https://github.com/scikit-learn/scikit-learn/issues/21755 */display: inline-block !important;position: relative;}#sk-container-id-1 div.sk-text-repr-fallback {display: none;}</style><div id=\"sk-container-id-1\" class=\"sk-top-container\"><div class=\"sk-text-repr-fallback\"><pre>LinearRegression()</pre><b>In a Jupyter environment, please rerun this cell to show the HTML representation or trust the notebook. <br />On GitHub, the HTML representation is unable to render, please try loading this page with nbviewer.org.</b></div><div class=\"sk-container\" hidden><div class=\"sk-item\"><div class=\"sk-estimator sk-toggleable\"><input class=\"sk-toggleable__control sk-hidden--visually\" id=\"sk-estimator-id-1\" type=\"checkbox\" checked><label for=\"sk-estimator-id-1\" class=\"sk-toggleable__label sk-toggleable__label-arrow\">LinearRegression</label><div class=\"sk-toggleable__content\"><pre>LinearRegression()</pre></div></div></div></div></div>"
            ]
          },
          "metadata": {},
          "execution_count": 23
        }
      ]
    },
    {
      "cell_type": "code",
      "source": [
        "# Make predictions\n",
        "\n",
        "y_pred = model.predict(X_test)"
      ],
      "metadata": {
        "id": "tJ3Ve1ilP92t"
      },
      "execution_count": 24,
      "outputs": []
    },
    {
      "cell_type": "code",
      "source": [
        "# Evaluate the model\n",
        "\n",
        "mse = mean_squared_error(y_test, y_pred)\n",
        "r2 = r2_score(y_test, y_pred)"
      ],
      "metadata": {
        "id": "clB_BaHsQA40"
      },
      "execution_count": 28,
      "outputs": []
    },
    {
      "cell_type": "code",
      "source": [
        "# Print evaluation metrics\n",
        "\n",
        "print(f'Mean Squared Error: {mse}')\n",
        "print(f'R-squared: {r2}')"
      ],
      "metadata": {
        "colab": {
          "base_uri": "https://localhost:8080/"
        },
        "id": "6XtkPa9jQFE0",
        "outputId": "693175be-9947-4122-e67b-d070530c1e2a"
      },
      "execution_count": 27,
      "outputs": [
        {
          "output_type": "stream",
          "name": "stdout",
          "text": [
            "Mean Squared Error: 1.7930562575236964e-23\n",
            "R-squared: 1.0\n"
          ]
        }
      ]
    },
    {
      "cell_type": "code",
      "source": [
        "sales_data.to_csv('processed_sales_data.csv', index=False)"
      ],
      "metadata": {
        "id": "EWcbQ5Bc2CC3"
      },
      "execution_count": 34,
      "outputs": []
    },
    {
      "cell_type": "markdown",
      "source": [
        "##**Step 3: Document Your Analysis**\n",
        "\n",
        "\n",
        "\n",
        "*  EDA findings, such as sales trends and patterns.\n",
        "*   Description of the machine learning model you built.\n",
        "\n",
        "*  Model evaluation metrics.\n",
        "*   Insights and recommendations based on the analysis.\n",
        "\n",
        "\n",
        "\n",
        "\n",
        "\n"
      ],
      "metadata": {
        "id": "Yfdc3rwC949N"
      }
    },
    {
      "cell_type": "markdown",
      "source": [
        "##**Step 4: Visualization with IBM Cognos**\n",
        "\n"
      ],
      "metadata": {
        "id": "0hEuhDww-CLm"
      }
    },
    {
      "cell_type": "markdown",
      "source": [
        "Here is the link [IBM Visualization:](https://us1.ca.analytics.ibm.com/bi/?perspective=dashboard&pathRef=.my_folders%2FDAC_Phase4%2FDAC_Phase4&action=view&mode=dashboard&subView=model0000018b65efe8d7_00000002)"
      ],
      "metadata": {
        "id": "3ONOYa6S-r0T"
      }
    },
    {
      "cell_type": "markdown",
      "source": [
        "--------\n"
      ],
      "metadata": {
        "id": "9hZk74A8_y6Q"
      }
    }
  ]
}